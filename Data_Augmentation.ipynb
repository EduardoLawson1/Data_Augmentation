{
  "nbformat": 4,
  "nbformat_minor": 0,
  "metadata": {
    "colab": {
      "provenance": [],
      "authorship_tag": "ABX9TyNKcO0O5/NHQvFhX0dE92DU",
      "include_colab_link": true
    },
    "kernelspec": {
      "name": "python3",
      "display_name": "Python 3"
    },
    "language_info": {
      "name": "python"
    }
  },
  "cells": [
    {
      "cell_type": "markdown",
      "metadata": {
        "id": "view-in-github",
        "colab_type": "text"
      },
      "source": [
        "<a href=\"https://colab.research.google.com/github/EduardoLawson1/Data_Augmentation/blob/main/Data_Augmentation.ipynb\" target=\"_parent\"><img src=\"https://colab.research.google.com/assets/colab-badge.svg\" alt=\"Open In Colab\"/></a>"
      ]
    },
    {
      "cell_type": "code",
      "source": [
        "from google.colab import drive\n",
        "drive.mount('/content/drive')"
      ],
      "metadata": {
        "id": "jTo5VbqWtKCH",
        "colab": {
          "base_uri": "https://localhost:8080/"
        },
        "outputId": "9880c3d1-6fcd-40c0-bc5d-631225da475f"
      },
      "execution_count": null,
      "outputs": [
        {
          "output_type": "stream",
          "name": "stdout",
          "text": [
            "Mounted at /content/drive\n"
          ]
        }
      ]
    },
    {
      "cell_type": "code",
      "execution_count": null,
      "metadata": {
        "id": "bjOrctejopDc"
      },
      "outputs": [],
      "source": [
        "import os\n",
        "import cv2\n",
        "from tqdm import tqdm\n",
        "from glob import glob\n",
        "from albumentations import CenterCrop, RandomRotate90,  CLAHE, HorizontalFlip\n",
        "from albumentations.augmentations.geometric.transforms import F"
      ]
    },
    {
      "cell_type": "code",
      "source": [
        "def load_data(path):\n",
        "    images = sorted(glob(os.path.join(path, \"images/*\")))\n",
        "    masks = sorted(glob(os.path.join(path, \"masks/*\")))\n",
        "    return images, masks\n",
        "\n",
        "def create_dir(path):  #função para criar diretórios\n",
        "    if not os.path.exists(path):\n",
        "      os.makedirs(path)\n",
        "\n",
        "def augment_data(images, masks, save_path, augment=True):\n",
        "    H = 256 # Altura da imagem\n",
        "    W = 256 #largura\n",
        "\n",
        "    for x, y in tqdm(zip(images, masks), total=len(images)):\n",
        "        name = x.split(\"/\")[-1].split(\".\")\n",
        "        image_name = name[0]\n",
        "        image_extn = name[1]\n",
        "\n",
        "        name = y.split(\"/\")[-1].split(\".\")\n",
        "        mask_name = name[0]\n",
        "        mask_extn = name[1]\n",
        "\n",
        "        x = cv2.imread(x, cv2.IMREAD_COLOR)\n",
        "        y = cv2.imread(y, cv2.IMREAD_COLOR)\n",
        "        #print(x.shape, y.shape)\n",
        "\n",
        "        if augment == True:\n",
        "            aug = CenterCrop(128, 128, p = 0.2)\n",
        "            augmented = aug(image=x, mask=y)\n",
        "            x1 = augmented[\"image\"]\n",
        "            y1 = augmented[\"mask\"]\n",
        "\n",
        "            aug = RandomRotate90(p = 0.6)\n",
        "            augmented = aug(image=x, mask=y)\n",
        "            x2 = augmented[\"image\"]\n",
        "            y2 = augmented[\"mask\"]\n",
        "\n",
        "            aug = HorizontalFlip( p = 0.6)\n",
        "            augmented = aug(image=x, mask=y)\n",
        "            x3 = augmented[\"image\"]\n",
        "            y3 = augmented[\"mask\"]\n",
        "\n",
        "            aug = CLAHE( p = 0.6)\n",
        "            augmented = aug(image=x, mask=y)\n",
        "            x4 = augmented[\"image\"]\n",
        "            y4 = augmented[\"mask\"]\n",
        "\n",
        "\n",
        "\n",
        "            save_images = [x, x1, x2, x3, x4]\n",
        "            save_masks = [y, y1, y2, y3, y4]\n",
        "        else:\n",
        "            save_images = [x]\n",
        "            save_masks = [y]\n",
        "\n",
        "        idx = 0\n",
        "        for i, m in zip(save_images, save_masks):\n",
        "            i = cv2.resize(i, (W, H))\n",
        "            m = cv2.resize(m, (W, H))\n",
        "\n",
        "            tmp_img_name = f\"{image_name}_{idx}.{image_extn}\"\n",
        "            tmp_msk_name = f\"{mask_name}_{idx}.{mask_extn}\"\n",
        "\n",
        "            image_path = os.path.join(save_path, \"images\", tmp_img_name)\n",
        "            mask_path = os.path.join(save_path, \"masks\", tmp_msk_name)\n",
        "\n",
        "            cv2.imwrite(image_path, i)\n",
        "            cv2.imwrite(mask_path, m)\n",
        "\n",
        "\n",
        "if __name__ == \"__main__\":\n",
        "    path = \"/content/drive/MyDrive/pré_data_augmentation\"\n",
        "    images, masks = load_data(path)\n",
        "    print(f\"Original images: {len(images)} - Original masks: {len(masks)}\")\n",
        "\n",
        "    create_dir(\"/content/drive/MyDrive/new_data/images/\")\n",
        "    create_dir(\"/content/drive/MyDrive/new_data/masks/\")\n",
        "\n",
        "    save_path = \"/content/drive/MyDrive/new_data\"\n",
        "    augment_data(images, masks, save_path, augment=True)\n",
        "\n",
        "    images, masks = load_data(save_path)\n",
        "    print(f\"Augmented images: {len(images)} - Augmented masks: {len(masks)}\")\n",
        "\n"
      ],
      "metadata": {
        "id": "KLU8cAHIpeow"
      },
      "execution_count": null,
      "outputs": []
    }
  ]
}